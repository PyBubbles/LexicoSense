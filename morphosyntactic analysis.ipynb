{
 "cells": [
  {
   "cell_type": "code",
   "execution_count": 8,
   "id": "c79e7e08-4264-4303-a2b2-aa19248e902c",
   "metadata": {},
   "outputs": [],
   "source": [
    "from farasa.pos import FarasaPOSTagger\n",
    "from farasa.ner import FarasaNamedEntityRecognizer\n",
    "from farasa.diacratizer import FarasaDiacritizer\n",
    "from farasa.segmenter import FarasaSegmenter\n",
    "from farasa.stemmer import FarasaStemmer"
   ]
  },
  {
   "cell_type": "code",
   "execution_count": 9,
   "id": "0632858c-dc59-4a76-ade1-7e3c18607a42",
   "metadata": {},
   "outputs": [],
   "source": [
    "sentence =' الطالب يدرس في المدرسة '"
   ]
  },
  {
   "cell_type": "code",
   "execution_count": 10,
   "id": "8f285e4a-e8de-41ac-9385-4067b6c9b0db",
   "metadata": {},
   "outputs": [
    {
     "name": "stderr",
     "output_type": "stream",
     "text": [
      "C:\\Users\\LENOVO\\AppData\\Local\\Programs\\Python\\Python312\\Lib\\site-packages\\urllib3\\connectionpool.py:1099: InsecureRequestWarning: Unverified HTTPS request is being made to host 'farasa-api.qcri.org'. Adding certificate verification is strongly advised. See: https://urllib3.readthedocs.io/en/latest/advanced-usage.html#tls-warnings\n",
      "  warnings.warn(\n"
     ]
    },
    {
     "name": "stdout",
     "output_type": "stream",
     "text": [
      "100%|███████████████████████████████████████████████████████████████████████████████| 241M/241M [09:31<00:00, 422kiB/s]\n"
     ]
    }
   ],
   "source": [
    "segmenter = FarasaSegmenter()"
   ]
  },
  {
   "cell_type": "code",
   "execution_count": 12,
   "id": "d01b75e1-cd8f-4d40-b219-a49b1b3d0b54",
   "metadata": {},
   "outputs": [],
   "source": [
    "segmented = segmenter.segment(sentence)"
   ]
  },
  {
   "cell_type": "code",
   "execution_count": 13,
   "id": "3c0a0403-de82-4d50-9636-83e595155a5d",
   "metadata": {},
   "outputs": [
    {
     "data": {
      "text/plain": [
       "'ال+طالب يدرس في ال+مدرس+ة'"
      ]
     },
     "execution_count": 13,
     "metadata": {},
     "output_type": "execute_result"
    }
   ],
   "source": [
    "segmented"
   ]
  },
  {
   "cell_type": "code",
   "execution_count": null,
   "id": "be22e8f7-c994-436d-9d67-a0839daeec48",
   "metadata": {},
   "outputs": [],
   "source": []
  }
 ],
 "metadata": {
  "kernelspec": {
   "display_name": "Python 3 (ipykernel)",
   "language": "python",
   "name": "python3"
  },
  "language_info": {
   "codemirror_mode": {
    "name": "ipython",
    "version": 3
   },
   "file_extension": ".py",
   "mimetype": "text/x-python",
   "name": "python",
   "nbconvert_exporter": "python",
   "pygments_lexer": "ipython3",
   "version": "3.12.7"
  }
 },
 "nbformat": 4,
 "nbformat_minor": 5
}
